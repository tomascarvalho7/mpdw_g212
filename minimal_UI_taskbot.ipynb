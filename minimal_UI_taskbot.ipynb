{
 "cells": [
  {
   "cell_type": "code",
   "execution_count": 11,
   "id": "12d96e61-1c4b-4e94-b97f-397013069843",
   "metadata": {},
   "outputs": [],
   "source": [
    "import json as json\n",
    "\n",
    "with open(\"recipes_data.json\", \"r\") as read_file:\n",
    "    data = json.load(read_file)\n",
    "\n",
    "imgA = data['0']['images'][0]['url']\n",
    "titleA = data['0']['displayName']\n",
    "propA = \"Serves \" + str(data['0']['servings'])\n"
   ]
  },
  {
   "cell_type": "code",
   "execution_count": 2,
   "id": "af055124-d3f0-4b50-8018-3541a41689f3",
   "metadata": {},
   "outputs": [],
   "source": [
    "from IPython.display import Video, Image, HTML, display\n",
    "\n",
    "def displayResults(titleA, imgA, propA, titleB, imgB, propB, titleC, imgC, propC):\n",
    "    display(HTML(f\"\"\"\n",
    "    <div class =\"row\" style=\"margin-left:100px\">\n",
    "       <div class=\"col-xs-6\">\n",
    "        <div class =\"images\" style=\"display:inline-block;\">\n",
    "            <img src=\"{imgA}\" class=\"img-responsive\" width=\"80px\">\n",
    "        </div>\n",
    "        <div class =\"images\" style=\"display:inline-block;\">\n",
    "                      {titleA} <br>\n",
    "                      {propA} <br>\n",
    "        </div>\n",
    "        <div class =\"images\" style=\"display:inline-block;\">\n",
    "            <img src=\"{imgB}\" class=\"img-responsive\" width=\"80\">\n",
    "        </div>\n",
    "        <div class =\"images\" style=\"display:inline-block;\">\n",
    "                      {titleB} <br>\n",
    "                      {propB} <br>\n",
    "        </div>\n",
    "        <div class =\"images\" style=\"display:inline-block;\">\n",
    "            <img src=\"{imgC}\" class=\"img-responsive\" width=\"80\">\n",
    "        </div>\n",
    "                      {titleC} <br>\n",
    "                      {propC} <br>\n",
    "        </div>\n",
    "       </div>\n",
    "    </div>\n",
    "    \"\"\"))\n",
    "\n",
    "def displayStep(text, img):\n",
    "    display(HTML(f\"\"\"\n",
    "    <div class =\"row\" style=\"margin-left:100px\">\n",
    "        <img src=\"{img}\" class=\"img-responsive\" width=\"80px\">\n",
    "        {text}<br>\n",
    "    </div>\n",
    "        \"\"\"))\n"
   ]
  },
  {
   "cell_type": "code",
   "execution_count": 10,
   "id": "b866f99b-a0db-4191-b5c8-098e25c9568b",
   "metadata": {},
   "outputs": [
    {
     "name": "stdout",
     "output_type": "stream",
     "text": [
      " BOT: Hello, I am a TaskBot and I can help you with cooking tasks. Which recipe would you like to do?\n",
      "\n"
     ]
    },
    {
     "name": "stdin",
     "output_type": "stream",
     "text": [
      "USER: dsfs\n"
     ]
    },
    {
     "name": "stdout",
     "output_type": "stream",
     "text": [
      "\n",
      " BOT: Great! These are the results I found:\n",
      "\n"
     ]
    },
    {
     "data": {
      "text/html": [
       "\n",
       "    <div class =\"row\" style=\"margin-left:100px\">\n",
       "       <div class=\"col-xs-6\">\n",
       "        <div class =\"images\" style=\"display:inline-block;\">\n",
       "            <img src=\"https://m.media-amazon.com/images/S/alexa-kitchen-msa-na-prod/recipes/thekitchn/016aa4923f044e1bad4cb2802f04133f7cf787b9bbf4fceb52438ecb70b28d89.jpg\" class=\"img-responsive\" width=\"80px\">\n",
       "        </div>\n",
       "        <div class =\"images\" style=\"display:inline-block;\">\n",
       "                      How To Make Chicken Parmesan <br>\n",
       "                      Serves 4 <br>\n",
       "        </div>\n",
       "        <div class =\"images\" style=\"display:inline-block;\">\n",
       "            <img src=\"https://m.media-amazon.com/images/S/alexa-kitchen-msa-na-prod/recipes/thekitchn/016aa4923f044e1bad4cb2802f04133f7cf787b9bbf4fceb52438ecb70b28d89.jpg\" class=\"img-responsive\" width=\"80\">\n",
       "        </div>\n",
       "        <div class =\"images\" style=\"display:inline-block;\">\n",
       "                      How To Make Chicken Parmesan <br>\n",
       "                      Serves 4 <br>\n",
       "        </div>\n",
       "        <div class =\"images\" style=\"display:inline-block;\">\n",
       "            <img src=\"https://m.media-amazon.com/images/S/alexa-kitchen-msa-na-prod/recipes/thekitchn/016aa4923f044e1bad4cb2802f04133f7cf787b9bbf4fceb52438ecb70b28d89.jpg\" class=\"img-responsive\" width=\"80\">\n",
       "        </div>\n",
       "                      How To Make Chicken Parmesan <br>\n",
       "                      Serves 4 <br>\n",
       "        </div>\n",
       "       </div>\n",
       "    </div>\n",
       "    "
      ],
      "text/plain": [
       "<IPython.core.display.HTML object>"
      ]
     },
     "metadata": {},
     "output_type": "display_data"
    },
    {
     "name": "stdout",
     "output_type": "stream",
     "text": [
      "      Which recipe would you like to do? Or, would you like to search for something different?\n",
      "\n"
     ]
    },
    {
     "name": "stdin",
     "output_type": "stream",
     "text": [
      "USER: fdsfs\n"
     ]
    },
    {
     "name": "stdout",
     "output_type": "stream",
     "text": [
      "\n",
      " BOT: That looks delicious! Let's start!\n",
      "\n"
     ]
    },
    {
     "data": {
      "text/html": [
       "\n",
       "    <div class =\"row\" style=\"margin-left:100px\">\n",
       "        <img src=\"https://m.media-amazon.com/images/S/alexa-kitchen-msa-na-prod/recipes/thekitchn/016aa4923f044e1bad4cb2802f04133f7cf787b9bbf4fceb52438ecb70b28d89.jpg\" class=\"img-responsive\" width=\"80px\">\n",
       "        Heat the oven and prepare for frying: Arrange a rack in the middle of the oven and heat to 375°F. Add enough oil to a wide, deep saucepan or pot so that it is 3/4-inch deep. If you have a deep-fry or candy thermometer, place it near the stove or attach it to the pan. Line a large platter with a few sheets of paper towels and set near the stove.<br>\n",
       "    </div>\n",
       "        "
      ],
      "text/plain": [
       "<IPython.core.display.HTML object>"
      ]
     },
     "metadata": {},
     "output_type": "display_data"
    },
    {
     "name": "stdout",
     "output_type": "stream",
     "text": [
      " BOT: Say next when you're done.\n",
      "\n"
     ]
    },
    {
     "name": "stdin",
     "output_type": "stream",
     "text": [
      "USER: fsdfs\n"
     ]
    },
    {
     "name": "stdout",
     "output_type": "stream",
     "text": [
      "\n"
     ]
    },
    {
     "data": {
      "text/html": [
       "\n",
       "    <div class =\"row\" style=\"margin-left:100px\">\n",
       "        <img src=\"https://m.media-amazon.com/images/S/alexa-kitchen-msa-na-prod/recipes/thekitchn/016aa4923f044e1bad4cb2802f04133f7cf787b9bbf4fceb52438ecb70b28d89.jpg\" class=\"img-responsive\" width=\"80px\">\n",
       "        Set up a breading station: Line up 3 shallow bowls or 8-inch square rimmed dishes side by side. Place the flour, 1 teaspoon of the salt, and 1/2 teaspoon of the black pepper in the first dish and mix to combine. Place the eggs, water, and remaining 1 teaspoon of the salt to the second dish and beat lightly with a fork to combine. Pour the breadcrumbs into the third dish.<br>\n",
       "    </div>\n",
       "        "
      ],
      "text/plain": [
       "<IPython.core.display.HTML object>"
      ]
     },
     "metadata": {},
     "output_type": "display_data"
    },
    {
     "name": "stdout",
     "output_type": "stream",
     "text": [
      " BOT: Say next when you're done.\n",
      "\n"
     ]
    },
    {
     "name": "stdin",
     "output_type": "stream",
     "text": [
      "USER: fdsfs\n"
     ]
    }
   ],
   "source": [
    "# Turn 1\n",
    "print(\" BOT: Hello, I am a TaskBot and I can help you with cooking tasks. Which recipe would you like to do?\")\n",
    "print()\n",
    "val = input(\"USER:\")\n",
    "\n",
    "# Turn 2\n",
    "print()\n",
    "print(\" BOT: Great! These are the results I found:\")\n",
    "print()\n",
    "displayResults(titleA, imgA, propA, titleA, imgA, propA, titleA, imgA, propA)    \n",
    "print(\"      Which recipe would you like to do? Or, would you like to search for something different?\")\n",
    "print()\n",
    "val = input(\"USER:\")\n",
    "\n",
    "# Turn 3\n",
    "print()\n",
    "print(\" BOT: That looks delicious! Let's start!\")\n",
    "print()\n",
    "displayStep(data['0']['instructions'][0]['stepText'], imgA)    \n",
    "\n",
    "# Turn 4\n",
    "print(\" BOT: Say next when you're done.\")\n",
    "print()\n",
    "val = input(\"USER:\")\n",
    "print()\n",
    "displayStep(data['0']['instructions'][1]['stepText'], imgA)    \n",
    "\n",
    "# Turn 5\n",
    "print(\" BOT: Say next when you're done.\")\n",
    "print()\n",
    "val = input(\"USER:\")\n"
   ]
  }
 ],
 "metadata": {
  "kernelspec": {
   "display_name": "NLP & IR",
   "language": "python",
   "name": "nlp-ir"
  },
  "language_info": {
   "codemirror_mode": {
    "name": "ipython",
    "version": 3
   },
   "file_extension": ".py",
   "mimetype": "text/x-python",
   "name": "python",
   "nbconvert_exporter": "python",
   "pygments_lexer": "ipython3",
   "version": "3.8.12"
  }
 },
 "nbformat": 4,
 "nbformat_minor": 5
}