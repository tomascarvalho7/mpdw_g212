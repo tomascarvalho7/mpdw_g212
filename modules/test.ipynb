{
 "cells": [
  {
   "cell_type": "code",
   "execution_count": 1,
   "metadata": {},
   "outputs": [
    {
     "ename": "ImportError",
     "evalue": "attempted relative import with no known parent package",
     "output_type": "error",
     "traceback": [
      "\u001b[1;31m---------------------------------------------------------------------------\u001b[0m",
      "\u001b[1;31mImportError\u001b[0m                               Traceback (most recent call last)",
      "Cell \u001b[1;32mIn[1], line 8\u001b[0m\n\u001b[0;32m      5\u001b[0m sys\u001b[38;5;241m.\u001b[39mpath\u001b[38;5;241m.\u001b[39mappend(os\u001b[38;5;241m.\u001b[39mpath\u001b[38;5;241m.\u001b[39mabspath(\u001b[38;5;124m'\u001b[39m\u001b[38;5;124m../modules\u001b[39m\u001b[38;5;124m'\u001b[39m))\n\u001b[0;32m      7\u001b[0m \u001b[38;5;66;03m# Now import the Search class from modules\u001b[39;00m\n\u001b[1;32m----> 8\u001b[0m \u001b[38;5;28;01mfrom\u001b[39;00m \u001b[38;5;21;01mSearch\u001b[39;00m \u001b[38;5;28;01mimport\u001b[39;00m Search\n\u001b[0;32m     10\u001b[0m \u001b[38;5;66;03m# Initialize the Search instance\u001b[39;00m\n\u001b[0;32m     11\u001b[0m search_instance \u001b[38;5;241m=\u001b[39m Search()\n",
      "File \u001b[1;32mc:\\Users\\farsi\\Documents\\WSDM\\project_final_phase\\mpdw_g212\\modules\\Search.py:2\u001b[0m\n\u001b[0;32m      1\u001b[0m \u001b[38;5;28;01mimport\u001b[39;00m \u001b[38;5;21;01mos\u001b[39;00m\n\u001b[1;32m----> 2\u001b[0m \u001b[38;5;28;01mfrom\u001b[39;00m \u001b[38;5;21;01m.\u001b[39;00m\u001b[38;5;21;01mEmbeddingUtils\u001b[39;00m \u001b[38;5;28;01mimport\u001b[39;00m EmbeddingUtils\n\u001b[0;32m      3\u001b[0m \u001b[38;5;28;01mfrom\u001b[39;00m \u001b[38;5;21;01mopensearchpy\u001b[39;00m \u001b[38;5;28;01mimport\u001b[39;00m OpenSearch\n\u001b[0;32m      4\u001b[0m \u001b[38;5;28;01mfrom\u001b[39;00m \u001b[38;5;21;01m.\u001b[39;00m\u001b[38;5;21;01mSearchBuilder\u001b[39;00m \u001b[38;5;28;01mimport\u001b[39;00m SearchBuilder\n",
      "\u001b[1;31mImportError\u001b[0m: attempted relative import with no known parent package"
     ]
    }
   ],
   "source": [
    "import sys\n",
    "import os\n",
    "\n",
    "# Adjust the path to include the parent directory of 'modules'\n",
    "sys.path.append(os.path.abspath('../modules'))\n",
    "\n",
    "# Now import the Search class from modules\n",
    "from Search import Search\n",
    "\n",
    "# Initialize the Search instance\n",
    "search_instance = Search()\n",
    "\n",
    "# Example text for intent detection\n",
    "text = \"Can you find a recipe for lasagna?\"\n",
    "\n",
    "# Detect intent using the Search instance\n",
    "intent = search_instance.process_query(text)\n",
    "print(f\"Processed query result: {intent}\")\n",
    "\n",
    "# Example context and question for slot filling\n",
    "context = \"I want a recipe that takes 30 minutes to prepare.\"\n",
    "question = \"How long does the recipe take to prepare?\"\n",
    "\n",
    "# Extract slot value using the Search instance\n",
    "slot_value = search_instance.extract_slot_value(question, context)\n",
    "print(f\"Extracted slot value: {slot_value}\")\n",
    "\n",
    "# Example text for another intent detection\n",
    "text2 = \"Hello\"\n",
    "\n",
    "# Detect intent using the Search instance\n",
    "intent2 = search_instance.process_query(text2)\n",
    "print(f\"Processed query result: {intent2}\")\n"
   ]
  },
  {
   "cell_type": "code",
   "execution_count": 2,
   "metadata": {},
   "outputs": [
    {
     "name": "stdout",
     "output_type": "stream",
     "text": [
      "c:\\Users\\farsi\\Documents\\WSDM\\project_final_phase\\mpdw_g212\\modules\n"
     ]
    }
   ],
   "source": [
    "import os\n",
    "print(os.getcwd())\n"
   ]
  },
  {
   "cell_type": "code",
   "execution_count": 7,
   "metadata": {},
   "outputs": [
    {
     "name": "stdout",
     "output_type": "stream",
     "text": [
      "c:\\Users\\farsi\\Documents\\WSDM\\project_final_phase\\mpdw_g212\n"
     ]
    }
   ],
   "source": [
    "import os\n",
    "##insert your path\n",
    "os.chdir('c:/Users/farsi/Documents/WSDM/project_final_phase/mpdw_g212')\n",
    "print(os.getcwd())  # Verify the change\n"
   ]
  },
  {
   "cell_type": "code",
   "execution_count": 5,
   "metadata": {},
   "outputs": [
    {
     "name": "stderr",
     "output_type": "stream",
     "text": [
      "Some weights of RobertaForSequenceClassification were not initialized from the model checkpoint at NOVA-vision-language/task-intent-detector and are newly initialized because the shapes did not match:\n",
      "- classifier.out_proj.bias: found shape torch.Size([36]) in the checkpoint and torch.Size([8]) in the model instantiated\n",
      "- classifier.out_proj.weight: found shape torch.Size([36, 768]) in the checkpoint and torch.Size([8, 768]) in the model instantiated\n",
      "You should probably TRAIN this model on a down-stream task to be able to use it for predictions and inference.\n"
     ]
    }
   ],
   "source": [
    "sys.path.append(os.path.abspath('./modules'))\n",
    "\n",
    "# Import the Search class from modules\n",
    "from modules.Search import Search\n",
    "\n",
    "# Initialize the Search instance\n",
    "search_instance = Search()\n"
   ]
  },
  {
   "cell_type": "code",
   "execution_count": 6,
   "metadata": {},
   "outputs": [
    {
     "name": "stdout",
     "output_type": "stream",
     "text": [
      "Detected intent in model's label space: QuestionIntent\n",
      "Detected intent: Out of scope\n",
      "Processed query result: I'm sorry, I cannot assist with that request.\n"
     ]
    }
   ],
   "source": [
    "\n",
    "# Example text for intent detection\n",
    "text = \"Can you find a recipe for lasagna?\"\n",
    "\n",
    "# Detect intent using the Search instance\n",
    "intent = search_instance.process_query(text)\n",
    "print(f\"Processed query result: {intent}\")\n"
   ]
  },
  {
   "cell_type": "code",
   "execution_count": 8,
   "metadata": {},
   "outputs": [
    {
     "name": "stdout",
     "output_type": "stream",
     "text": [
      "Extracted slot value: 30 minutes\n"
     ]
    }
   ],
   "source": [
    "\n",
    "# Example context and question for slot filling\n",
    "context = \"I want a recipe that takes 30 minutes to prepare.\"\n",
    "question = \"How long does the recipe take to prepare?\"\n",
    "\n",
    "# Extract slot value using the Search instance\n",
    "slot_value = search_instance.extract_slot_value(question, context)\n",
    "print(f\"Extracted slot value: {slot_value}\")\n"
   ]
  },
  {
   "cell_type": "code",
   "execution_count": 9,
   "metadata": {},
   "outputs": [
    {
     "name": "stdout",
     "output_type": "stream",
     "text": [
      "Detected intent in model's label space: StopIntent\n",
      "Detected intent: Out of scope\n",
      "Processed query result: I'm sorry, I cannot assist with that request.\n"
     ]
    }
   ],
   "source": [
    "\n",
    "# Example text for another intent detection\n",
    "text2 = \"Hello\"\n",
    "\n",
    "# Detect intent using the Search instance\n",
    "intent2 = search_instance.process_query(text2)\n",
    "print(f\"Processed query result: {intent2}\")"
   ]
  }
 ],
 "metadata": {
  "kernelspec": {
   "display_name": "nlp-cv-ir",
   "language": "python",
   "name": "python3"
  },
  "language_info": {
   "codemirror_mode": {
    "name": "ipython",
    "version": 3
   },
   "file_extension": ".py",
   "mimetype": "text/x-python",
   "name": "python",
   "nbconvert_exporter": "python",
   "pygments_lexer": "ipython3",
   "version": "3.9.19"
  }
 },
 "nbformat": 4,
 "nbformat_minor": 2
}
