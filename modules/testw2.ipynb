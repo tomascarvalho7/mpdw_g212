{
 "cells": [
  {
   "cell_type": "code",
   "execution_count": 2,
   "metadata": {},
   "outputs": [
    {
     "name": "stdout",
     "output_type": "stream",
     "text": [
      "Reverse Mapping: {'GreetingIntent': 'Greetings', 'QuestionIntent': 'Search recipe', 'OutOfScopeIntent': 'Out of scope', 'YesIntent': 'Yes', 'NoIntent': 'No', 'StartStepsIntent': 'Start task', 'NextStepIntent': 'Next', 'StopIntent': 'Stop'}\n"
     ]
    },
    {
     "name": "stderr",
     "output_type": "stream",
     "text": [
      "Some weights of RobertaForSequenceClassification were not initialized from the model checkpoint at NOVA-vision-language/task-intent-detector and are newly initialized because the shapes did not match:\n",
      "- classifier.out_proj.bias: found shape torch.Size([36]) in the checkpoint and torch.Size([8]) in the model instantiated\n",
      "- classifier.out_proj.weight: found shape torch.Size([36, 768]) in the checkpoint and torch.Size([8, 768]) in the model instantiated\n",
      "You should probably TRAIN this model on a down-stream task to be able to use it for predictions and inference.\n"
     ]
    },
    {
     "name": "stdout",
     "output_type": "stream",
     "text": [
      "Testing text: Can you find a recipe for lasagna?\n",
      "Detected intent in model's label space: GreetingIntent\n",
      "Mapped intent: Greetings\n",
      "Detected intent: Greetings\n",
      "Processed query result: Hello! How can I assist you today?\n",
      "Testing text: Hello\n",
      "Detected intent in model's label space: NoIntent\n",
      "Mapped intent: No\n",
      "Detected intent: No\n",
      "Processed query result: Action canceled.\n",
      "Testing text: Yes\n",
      "Detected intent in model's label space: StartStepsIntent\n",
      "Mapped intent: Start task\n",
      "Detected intent: Start task\n",
      "Processed query result: You haven't started any recipe. Please search for a recipe first.\n",
      "Testing text: No\n",
      "Detected intent in model's label space: StartStepsIntent\n",
      "Mapped intent: Start task\n",
      "Detected intent: Start task\n",
      "Processed query result: You haven't started any recipe. Please search for a recipe first.\n",
      "Testing text: Stop\n",
      "Detected intent in model's label space: NoIntent\n",
      "Mapped intent: No\n",
      "Detected intent: No\n",
      "Processed query result: Action canceled.\n",
      "Testing text: Next step\n",
      "Detected intent in model's label space: NoIntent\n",
      "Mapped intent: No\n",
      "Detected intent: No\n",
      "Processed query result: Action canceled.\n",
      "Testing text: I want to start cooking\n",
      "Detected intent in model's label space: YesIntent\n",
      "Mapped intent: Yes\n",
      "Detected intent: Yes\n",
      "Processed query result: Confirmed.\n",
      "Extracted slot value: 30 minutes\n"
     ]
    }
   ],
   "source": [
    "import sys\n",
    "import os\n",
    "\n",
    "# Ensure the working directory is correct\n",
    "os.chdir('c:/Users/farsi/Documents/WSDM/project_final_phase/mpdw_g212')\n",
    "sys.path.append(os.path.abspath('./modules'))\n",
    "\n",
    "# Import the Search class from modules\n",
    "from modules.Search import Search\n",
    "\n",
    "# Initialize the Search instance\n",
    "search_instance = Search()\n",
    "\n",
    "# Example text for intent detection\n",
    "texts = [\n",
    "    \"Can you find a recipe for lasagna?\",\n",
    "    \"Hello\",\n",
    "    \"Yes\",\n",
    "    \"No\",\n",
    "    \"Stop\",\n",
    "    \"Next step\",\n",
    "    \"I want to start cooking\"\n",
    "]\n",
    "\n",
    "# Detect intents using the Search instance\n",
    "for text in texts:\n",
    "    print(f\"Testing text: {text}\")\n",
    "    intent = search_instance.process_query(text)\n",
    "    print(f\"Processed query result: {intent}\")\n",
    "\n",
    "# Example context and question for slot filling\n",
    "context = \"I want a recipe that takes 30 minutes to prepare.\"\n",
    "question = \"How long does the recipe take to prepare?\"\n",
    "\n",
    "# Extract slot value using the Search instance\n",
    "slot_value = search_instance.extract_slot_value(question, context)\n",
    "print(f\"Extracted slot value: {slot_value}\")\n"
   ]
  }
 ],
 "metadata": {
  "kernelspec": {
   "display_name": "nlp-cv-ir",
   "language": "python",
   "name": "python3"
  },
  "language_info": {
   "codemirror_mode": {
    "name": "ipython",
    "version": 3
   },
   "file_extension": ".py",
   "mimetype": "text/x-python",
   "name": "python",
   "nbconvert_exporter": "python",
   "pygments_lexer": "ipython3",
   "version": "3.9.19"
  }
 },
 "nbformat": 4,
 "nbformat_minor": 2
}
