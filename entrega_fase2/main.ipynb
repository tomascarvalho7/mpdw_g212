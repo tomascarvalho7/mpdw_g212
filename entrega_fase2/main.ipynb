{
 "cells": [
  {
   "cell_type": "markdown",
   "metadata": {},
   "source": [
    "# Conversational Task Agent\n",
    "\n",
    "Taskbot that assist users in multi-step tasks, such as baking a \n",
    "birthday  cake  or  fixing  a  scratch  on  a  car  —  and  adapt  those  instructions  based  on  the \n",
    "resources  and  tools  available  to  the  customer.  If,  for  example,  a  customer  ran  out  of  an \n",
    "ingredient  halfway  through  a  recipe  or  didn’t  have  a  specific  tool  for  a  DIY  project,  the \n",
    "taskbot had to adjust the plan and suggest possible solutions.\n",
    "\n",
    "## Phase 1 - (Task Retriever): Implementing a search index for recipes with OpenSearch"
   ]
  },
  {
   "cell_type": "markdown",
   "metadata": {},
   "source": [
    "## Indexing\n",
    "\n",
    "The Indexing.py module's purpose is to handle the index operations, might these be to calculate the embeddings and interact with the pickle files used to store the embeddings, to create the index and mappings or to parse and store the recipes from the base file to OpenSearch."
   ]
  },
  {
   "cell_type": "code",
   "execution_count": null,
   "metadata": {},
   "outputs": [],
   "source": [
    "from modules.Indexing import Indexing\n",
    "\n",
    "\n",
    "indexer = Indexing()\n",
    "\n",
    "indexer.calculateAndStoreEmbeddings()\n",
    "print(\"Embeddings stored and encoded\")\n",
    "indexer.createOpenSearchMappings()\n",
    "print(\"Mappings created\")\n",
    "indexer.readAndStoreRecipesFromFile(\"./receitas.json\")\n",
    "print(\"Recipes stored\")"
   ]
  },
  {
   "cell_type": "markdown",
   "metadata": {},
   "source": [
    "## Search\n",
    "\n",
    "The Search.py module is simply an abstraction of the SearchBuilder.py module, made to simplify the search operations for a user. It's easily scalable thanks to the SearchBuilder layer and was made to be used as a simple interface for the system."
   ]
  },
  {
   "cell_type": "code",
   "execution_count": null,
   "metadata": {},
   "outputs": [],
   "source": [
    "from modules.Search import Search\n",
    "\n",
    "search = Search()\n",
    "\n",
    "# search.SearchTitleAndDescriptionTxt(\"chicken curry\")\n",
    "# search.SearchRecipeTime(30, 5)\n",
    "# search.SearchRecipeNameTime(30, 5, \"chicken\")\n",
    "# search.SearchRecipeIngredients(\"chicken curry\")\n",
    "# search.SearchRecipeExcludeIngredients(\"curry\", \"chicken\")\n",
    "# search.SearchRecipeDifficulty(\"easy\")\n",
    "# search.SearchRecipeNameDifficulty(\"easy\", \"chicken\")\n",
    "# search.SearchTitleEmbeddings(\"chicken\")\n",
    "# search.SearchDescriptionEmbeddings(\"chicken\")\n",
    "search.SearchSingleTitleAndDescriptionTxtInstructions(\"chicken curry\")"
   ]
  },
  {
   "cell_type": "markdown",
   "metadata": {},
   "source": [
    "## SearchBuilder\n",
    "\n",
    "The Search Builder API is meant to be used as a tool to easily and in an iterative manner build simple or complex search OpenSearch queries. This module avoids repetitive code, also as a way to ensure good application scaling and coding practices and maintaining a developer-friendly interface."
   ]
  },
  {
   "cell_type": "code",
   "execution_count": null,
   "metadata": {},
   "outputs": [],
   "source": [
    "import pprint as pp\n",
    "from modules.SearchBuilder import SearchBuilder\n",
    "from PIL import Image\n",
    "import requests\n",
    "\n",
    "searchBuilder = SearchBuilder()\n",
    "searchBuilder.setSourceAsIdAndContent()\n",
    "searchBuilder.setResultLength(5)\n",
    "searchBuilder.setMandatoryTags([\"Japanese\"])\n",
    "searchBuilder.setOptionalTags([\"Sukiaki\"])\n",
    "searchBuilder.setIngredients(\"soy\")\n",
    "searchBuilder.excludeIngredients(\"chicken\")\n",
    "searchBuilder.setTimeFrame(150, 5)\n",
    "result = searchBuilder.Search(\"beef Sukiyaki\")\n",
    "pp.pprint(result)"
   ]
  },
  {
   "cell_type": "code",
   "execution_count": null,
   "metadata": {},
   "outputs": [],
   "source": [
    "# search for vegetarian pesto pasta\n",
    "searchBuilder = SearchBuilder()\n",
    "searchBuilder.setSourceAsIdAndContent()\n",
    "searchBuilder.setResultLength(5)\n",
    "searchBuilder.setMandatoryTags(['Vegan', 'Vegetarian'])\n",
    "searchBuilder.setOptionalTags(['Gluten Free'])\n",
    "\n",
    "response = searchBuilder.Search(\"Pesto pasta\")\n",
    "pp.pprint(response) # print"
   ]
  },
  {
   "cell_type": "code",
   "execution_count": null,
   "metadata": {},
   "outputs": [],
   "source": [
    "# search for Yaki udon\n",
    "searchBuilder = SearchBuilder()\n",
    "searchBuilder.setSourceAsIdAndContent()\n",
    "searchBuilder.setIngredients(\"mushrooms\")\n",
    "searchBuilder.excludeIngredients(\"brocolli\")\n",
    "searchBuilder.setOptionalTags([\"Vegetarian\"])\n",
    "searchBuilder.setTimeFrame(20, 15)\n",
    "\n",
    "response = searchBuilder.Search(\"Yaki udon with at home ingredients\")\n",
    "pp.pprint(response)# print"
   ]
  },
  {
   "cell_type": "code",
   "execution_count": null,
   "metadata": {},
   "outputs": [],
   "source": [
    "# search for Dumpling Miso Soup Ramen\n",
    "searchBuilder = SearchBuilder()\n",
    "searchBuilder.setSourceAsIdAndContent()\n",
    "searchBuilder.setIngredients(\"dumplings\")\n",
    "searchBuilder.setMandatoryTags([\"Vegan\", \"Vegetarian\", \"Gluten Free\"])\n",
    "searchBuilder.setOptionalTags([\"Main Dishes\", \"Japanese\"])\n",
    "\n",
    "response = searchBuilder.Search(\"Dumpling Miso Soup Ramen\")\n",
    "pp.pprint(response)# print"
   ]
  },
  {
   "cell_type": "code",
   "execution_count": null,
   "metadata": {},
   "outputs": [],
   "source": [
    "# search for Ceasar Salad\n",
    "searchBuilder = SearchBuilder()\n",
    "searchBuilder.setSourceAsIdAndContent()\n",
    "searchBuilder.setOptionalTags([\"Main Dishes\"])\n",
    "\n",
    "response = searchBuilder.SearchByDescriptionEmbeddings(\"Ceasar Salad\")\n",
    "pp.pprint(response)# print"
   ]
  },
  {
   "cell_type": "code",
   "execution_count": null,
   "metadata": {},
   "outputs": [],
   "source": [
    "searchBuilder = SearchBuilder()\n",
    "searchBuilder.setSourceAsIdAndContent()\n",
    "\n",
    "lasagna_url = \"https://www.unileverfoodsolutions.pt/dam/global-ufs/mcos/portugal/calcmenu/recipes/PT-recipes/In-Development/lasanha/main-header.jpg\"\n",
    "\n",
    "response = searchBuilder.SearchByImageEmbeddings([Image.open(requests.get(lasagna_url, stream=True).raw)])\n",
    "pp.print(response)"
   ]
  },
  {
   "cell_type": "code",
   "execution_count": null,
   "metadata": {},
   "outputs": [],
   "source": [
    "from opensearchpy import OpenSearch\n",
    "\n",
    "host = 'api.novasearch.org'\n",
    "port = 443\n",
    "user = 'user212'\n",
    "password = 'soO-2518'\n",
    "index_name = user\n",
    "client = OpenSearch(\n",
    "    hosts = [{'host': host, 'port': port}],\n",
    "    http_compress = True, # enables gzip compression for request bodies\n",
    "    http_auth = (user, password),\n",
    "    url_prefix = 'opensearch',\n",
    "    use_ssl = True,\n",
    "    verify_certs = False,\n",
    "    ssl_assert_hostname = False,\n",
    "    ssl_show_warn = False\n",
    ")"
   ]
  },
  {
   "cell_type": "markdown",
   "metadata": {},
   "source": [
    "## Closing the client connection"
   ]
  },
  {
   "cell_type": "code",
   "execution_count": null,
   "metadata": {},
   "outputs": [],
   "source": [
    "be sure you want to close the connection before running this code\n",
    "\n",
    "resp = client.indices.close(index = index_name, timeout=600)\n",
    "print(resp)"
   ]
  },
  {
   "cell_type": "markdown",
   "metadata": {},
   "source": [
    "## Deleting the Index"
   ]
  },
  {
   "cell_type": "code",
   "execution_count": null,
   "metadata": {},
   "outputs": [],
   "source": [
    "be sure you want to delete the index before running this code\n",
    "\n",
    "if client.indices.exists(index=index_name):\n",
    "    # Delete the index.\n",
    "    response = client.indices.delete(\n",
    "        index = index_name,\n",
    "        timeout = 600\n",
    "    )\n",
    "    print('\\nDeleting index:')\n",
    "    print(response)"
   ]
  }
 ],
 "metadata": {
  "kernelspec": {
   "display_name": "Python 3 (ipykernel)",
   "language": "python",
   "name": "python3"
  },
  "language_info": {
   "codemirror_mode": {
    "name": "ipython",
    "version": 3
   },
   "file_extension": ".py",
   "mimetype": "text/x-python",
   "name": "python",
   "nbconvert_exporter": "python",
   "pygments_lexer": "ipython3",
   "version": "3.9.18"
  }
 },
 "nbformat": 4,
 "nbformat_minor": 4
}
